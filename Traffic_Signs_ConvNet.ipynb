{
 "cells": [
  {
   "cell_type": "markdown",
   "metadata": {},
   "source": [
    "## Convolutional Neural Net for Classification of Traffic Sign Images"
   ]
  },
  {
   "cell_type": "code",
   "execution_count": 56,
   "metadata": {
    "collapsed": true
   },
   "outputs": [],
   "source": [
    "import matplotlib.pyplot as plt\n",
    "%matplotlib inline\n",
    "import csv\n",
    "from scipy.misc import imresize\n",
    "import numpy as np\n",
    "import pandas as pd\n",
    "import random\n",
    "from swat import *\n",
    "from mpl_toolkits.axes_grid1 import ImageGrid\n",
    "import sys\n",
    "sys.path.append('/opt/sasinside/DemoData/DL_api')\n"
   ]
  },
  {
   "cell_type": "markdown",
   "metadata": {},
   "source": [
    "# CAS Server Connection Details"
   ]
  },
  {
   "cell_type": "code",
   "execution_count": 57,
   "metadata": {
    "collapsed": true
   },
   "outputs": [],
   "source": [
    "cashost='localhost'\n",
    "casport=5570\n",
    "casauth='~/.authinfo'"
   ]
  },
  {
   "cell_type": "markdown",
   "metadata": {},
   "source": [
    "# Start a CAS Server"
   ]
  },
  {
   "cell_type": "code",
   "execution_count": 58,
   "metadata": {
    "collapsed": true
   },
   "outputs": [],
   "source": [
    "s = CAS(cashost, casport, authinfo=casauth, caslib=\"casuser\")"
   ]
  },
  {
   "cell_type": "code",
   "execution_count": 60,
   "metadata": {},
   "outputs": [
    {
     "name": "stdout",
     "output_type": "stream",
     "text": [
      "NOTE: Grid node action status report: 1 nodes, 8 total actions executed.\n"
     ]
    }
   ],
   "source": [
    " out = s.serverstatus()"
   ]
  },
  {
   "cell_type": "markdown",
   "metadata": {},
   "source": [
    "# Load Actionsets"
   ]
  },
  {
   "cell_type": "code",
   "execution_count": 62,
   "metadata": {},
   "outputs": [
    {
     "name": "stdout",
     "output_type": "stream",
     "text": [
      "NOTE: Added action set 'image'.\n",
      "NOTE: Added action set 'deeplearn'.\n"
     ]
    },
    {
     "data": {
      "text/html": [
       "<div class=\"cas-results-key\"><b>&#167; actionset</b></div>\n",
       "<div class=\"cas-results-body\">\n",
       "<div>deeplearn</div>\n",
       "</div>\n",
       "<div class=\"cas-output-area\"></div>\n",
       "<p class=\"cas-results-performance\"><small><span class=\"cas-elapsed\">elapsed 0.000213s</span> &#183; <span class=\"cas-memory\">mem 0.195MB</span></small></p>"
      ],
      "text/plain": [
       "[actionset]\n",
       "\n",
       " 'deeplearn'\n",
       "\n",
       "+ Elapsed: 0.000213s, mem: 0.195mb"
      ]
     },
     "execution_count": 62,
     "metadata": {},
     "output_type": "execute_result"
    }
   ],
   "source": [
    "s.loadactionset('image')\n",
    "s.loadactionset('deeplearn')"
   ]
  },
  {
   "cell_type": "markdown",
   "metadata": {},
   "source": [
    "# Load Data"
   ]
  },
  {
   "cell_type": "code",
   "execution_count": 63,
   "metadata": {},
   "outputs": [
    {
     "name": "stdout",
     "output_type": "stream",
     "text": [
      "NOTE: Information for action set 'image':\n",
      "NOTE:    image\n",
      "NOTE:       loadImages - Loads images from a path or URL and creates a CAS table\n",
      "NOTE:       saveImages - Writes images contained in a CAS table to disk\n",
      "NOTE:       compareImages - Compares images in one CAS table with those in another\n",
      "NOTE:       processImages - Performs core image processing functions\n",
      "NOTE:       augmentImages - Augment images by creating patches and mutating them\n",
      "NOTE:       flattenImageTable - Convert image tables into wide format (one column per pixel)\n",
      "NOTE:       summarizeImages - Read an image table and extract information about the images it contains\n",
      "NOTE:       matchImages - Match a template image against a table of images\n",
      "NOTE:       fetchImages - Fetch images for displaying\n",
      "NOTE:       condenseImages - Condenses pixel values into a CAS image table.\n"
     ]
    },
    {
     "data": {
      "text/html": [
       "<div class=\"cas-results-key\"><b>&#167; image</b></div>\n",
       "<div class=\"cas-results-body\">\n",
       "<div>\n",
       "<style>\n",
       "    .dataframe thead tr:only-child th {\n",
       "        text-align: right;\n",
       "    }\n",
       "\n",
       "    .dataframe thead th {\n",
       "        text-align: left;\n",
       "    }\n",
       "\n",
       "    .dataframe tbody tr th {\n",
       "        vertical-align: top;\n",
       "    }\n",
       "</style>\n",
       "<table border=\"1\" class=\"dataframe\">\n",
       "  <thead>\n",
       "    <tr style=\"text-align: right;\">\n",
       "      <th title=\"\"></th>\n",
       "      <th title=\"Name\">name</th>\n",
       "      <th title=\"Description\">description</th>\n",
       "    </tr>\n",
       "  </thead>\n",
       "  <tbody>\n",
       "    <tr>\n",
       "      <th>0</th>\n",
       "      <td>loadImages</td>\n",
       "      <td>Loads images from a path or URL and creates a ...</td>\n",
       "    </tr>\n",
       "    <tr>\n",
       "      <th>1</th>\n",
       "      <td>saveImages</td>\n",
       "      <td>Writes images contained in a CAS table to disk</td>\n",
       "    </tr>\n",
       "    <tr>\n",
       "      <th>2</th>\n",
       "      <td>compareImages</td>\n",
       "      <td>Compares images in one CAS table with those in...</td>\n",
       "    </tr>\n",
       "    <tr>\n",
       "      <th>3</th>\n",
       "      <td>processImages</td>\n",
       "      <td>Performs core image processing functions</td>\n",
       "    </tr>\n",
       "    <tr>\n",
       "      <th>4</th>\n",
       "      <td>augmentImages</td>\n",
       "      <td>Augment images by creating patches and mutatin...</td>\n",
       "    </tr>\n",
       "    <tr>\n",
       "      <th>5</th>\n",
       "      <td>flattenImageTable</td>\n",
       "      <td>Convert image tables into wide format (one col...</td>\n",
       "    </tr>\n",
       "    <tr>\n",
       "      <th>6</th>\n",
       "      <td>summarizeImages</td>\n",
       "      <td>Read an image table and extract information ab...</td>\n",
       "    </tr>\n",
       "    <tr>\n",
       "      <th>7</th>\n",
       "      <td>matchImages</td>\n",
       "      <td>Match a template image against a table of images</td>\n",
       "    </tr>\n",
       "    <tr>\n",
       "      <th>8</th>\n",
       "      <td>fetchImages</td>\n",
       "      <td>Fetch images for displaying</td>\n",
       "    </tr>\n",
       "    <tr>\n",
       "      <th>9</th>\n",
       "      <td>condenseImages</td>\n",
       "      <td>Condenses pixel values into a CAS image table.</td>\n",
       "    </tr>\n",
       "  </tbody>\n",
       "</table>\n",
       "</div>\n",
       "</div>\n",
       "<div class=\"cas-output-area\"></div>\n",
       "<p class=\"cas-results-performance\"><small><span class=\"cas-elapsed\">elapsed 0.00141s</span> &#183; <span class=\"cas-user\">user 0.001s</span> &#183; <span class=\"cas-memory\">mem 0.613MB</span></small></p>"
      ],
      "text/plain": [
       "[image]\n",
       "\n",
       "                 name                                        description\n",
       " 0         loadImages  Loads images from a path or URL and creates a ...\n",
       " 1         saveImages     Writes images contained in a CAS table to disk\n",
       " 2      compareImages  Compares images in one CAS table with those in...\n",
       " 3      processImages           Performs core image processing functions\n",
       " 4      augmentImages  Augment images by creating patches and mutatin...\n",
       " 5  flattenImageTable  Convert image tables into wide format (one col...\n",
       " 6    summarizeImages  Read an image table and extract information ab...\n",
       " 7        matchImages   Match a template image against a table of images\n",
       " 8        fetchImages                        Fetch images for displaying\n",
       " 9     condenseImages     Condenses pixel values into a CAS image table.\n",
       "\n",
       "+ Elapsed: 0.00141s, user: 0.001s, mem: 0.613mb"
      ]
     },
     "execution_count": 63,
     "metadata": {},
     "output_type": "execute_result"
    }
   ],
   "source": [
    "s.help(actionset='image')"
   ]
  },
  {
   "cell_type": "code",
   "execution_count": 64,
   "metadata": {},
   "outputs": [
    {
     "name": "stdout",
     "output_type": "stream",
     "text": [
      "NOTE: Loaded 39209 images from /opt/sasinside/DemoData/image/GTSRB/Final_Training/Images into Cloud Analytic Services table train.\n"
     ]
    },
    {
     "data": {
      "text/html": [
       "<div class=\"cas-output-area\"></div>\n",
       "<p class=\"cas-results-performance\"><small><span class=\"cas-elapsed\">elapsed 4.68s</span> &#183; <span class=\"cas-user\">user 2.34s</span> &#183; <span class=\"cas-sys\">sys 2.34s</span> &#183; <span class=\"cas-memory\">mem 26.2MB</span></small></p>"
      ],
      "text/plain": [
       "+ Elapsed: 4.68s, user: 2.34s, sys: 2.34s, mem: 26.2mb"
      ]
     },
     "execution_count": 64,
     "metadata": {},
     "output_type": "execute_result"
    }
   ],
   "source": [
    "# Loading images and labels from local disk\n",
    "s.image.loadImages(casout={'name':'train','blocksize':128,'replace':True},\n",
    "                   path='/opt/sasinside/DemoData/image/GTSRB/Final_Training/Images',recurse = 'True',labellevels =-1)\n",
    "                        \n"
   ]
  },
  {
   "cell_type": "code",
   "execution_count": 31,
   "metadata": {},
   "outputs": [
    {
     "data": {
      "text/html": [
       "<div class=\"cas-results-key\"><b>&#167; ColumnInfo</b></div>\n",
       "<div class=\"cas-results-body\">\n",
       "<div>\n",
       "<style>\n",
       "    .dataframe thead tr:only-child th {\n",
       "        text-align: right;\n",
       "    }\n",
       "\n",
       "    .dataframe thead th {\n",
       "        text-align: left;\n",
       "    }\n",
       "\n",
       "    .dataframe tbody tr th {\n",
       "        vertical-align: top;\n",
       "    }\n",
       "</style>\n",
       "<table border=\"1\" class=\"dataframe\">\n",
       "  <thead>\n",
       "    <tr style=\"text-align: right;\">\n",
       "      <th title=\"\"></th>\n",
       "      <th title=\"Column\">Column</th>\n",
       "      <th title=\"ID\">ID</th>\n",
       "      <th title=\"Indexed\">Indexed</th>\n",
       "      <th title=\"Type\">Type</th>\n",
       "      <th title=\"RawLength\">RawLength</th>\n",
       "      <th title=\"FormattedLength\">FormattedLength</th>\n",
       "      <th title=\"NFL\">NFL</th>\n",
       "      <th title=\"NFD\">NFD</th>\n",
       "    </tr>\n",
       "  </thead>\n",
       "  <tbody>\n",
       "    <tr>\n",
       "      <th>0</th>\n",
       "      <td>_image_</td>\n",
       "      <td>1</td>\n",
       "      <td>N</td>\n",
       "      <td>varbinary</td>\n",
       "      <td>164040</td>\n",
       "      <td>164040</td>\n",
       "      <td>0</td>\n",
       "      <td>0</td>\n",
       "    </tr>\n",
       "    <tr>\n",
       "      <th>1</th>\n",
       "      <td>_size_</td>\n",
       "      <td>2</td>\n",
       "      <td>N</td>\n",
       "      <td>int64</td>\n",
       "      <td>8</td>\n",
       "      <td>12</td>\n",
       "      <td>0</td>\n",
       "      <td>0</td>\n",
       "    </tr>\n",
       "    <tr>\n",
       "      <th>2</th>\n",
       "      <td>_path_</td>\n",
       "      <td>3</td>\n",
       "      <td>N</td>\n",
       "      <td>varchar</td>\n",
       "      <td>79</td>\n",
       "      <td>79</td>\n",
       "      <td>0</td>\n",
       "      <td>0</td>\n",
       "    </tr>\n",
       "    <tr>\n",
       "      <th>3</th>\n",
       "      <td>_label_</td>\n",
       "      <td>4</td>\n",
       "      <td>N</td>\n",
       "      <td>varchar</td>\n",
       "      <td>5</td>\n",
       "      <td>5</td>\n",
       "      <td>0</td>\n",
       "      <td>0</td>\n",
       "    </tr>\n",
       "    <tr>\n",
       "      <th>4</th>\n",
       "      <td>_type_</td>\n",
       "      <td>5</td>\n",
       "      <td>N</td>\n",
       "      <td>char</td>\n",
       "      <td>3</td>\n",
       "      <td>3</td>\n",
       "      <td>0</td>\n",
       "      <td>0</td>\n",
       "    </tr>\n",
       "    <tr>\n",
       "      <th>5</th>\n",
       "      <td>_id_</td>\n",
       "      <td>6</td>\n",
       "      <td>N</td>\n",
       "      <td>int64</td>\n",
       "      <td>8</td>\n",
       "      <td>12</td>\n",
       "      <td>0</td>\n",
       "      <td>0</td>\n",
       "    </tr>\n",
       "  </tbody>\n",
       "</table>\n",
       "</div>\n",
       "</div>\n",
       "<div class=\"cas-output-area\"></div>\n",
       "<p class=\"cas-results-performance\"><small><span class=\"cas-elapsed\">elapsed 0.0013s</span> &#183; <span class=\"cas-user\">user 0.001s</span> &#183; <span class=\"cas-memory\">mem 0.711MB</span></small></p>"
      ],
      "text/plain": [
       "[ColumnInfo]\n",
       "\n",
       "     Column  ID Indexed       Type  RawLength  FormattedLength  NFL  NFD\n",
       " 0  _image_   1       N  varbinary     164040           164040    0    0\n",
       " 1   _size_   2       N      int64          8               12    0    0\n",
       " 2   _path_   3       N    varchar         79               79    0    0\n",
       " 3  _label_   4       N    varchar          5                5    0    0\n",
       " 4   _type_   5       N       char          3                3    0    0\n",
       " 5     _id_   6       N      int64          8               12    0    0\n",
       "\n",
       "+ Elapsed: 0.0013s, user: 0.001s, mem: 0.711mb"
      ]
     },
     "execution_count": 31,
     "metadata": {},
     "output_type": "execute_result"
    }
   ],
   "source": [
    "s.columninfo(table='train')"
   ]
  },
  {
   "cell_type": "code",
   "execution_count": 65,
   "metadata": {
    "collapsed": true
   },
   "outputs": [],
   "source": [
    "from dl_api.images import ImageTable \n",
    "trainTb = s.CASTable('train')\n",
    "tr_img = ImageTable.from_table(trainTb,image_col='_image_', label_col='_label_',path_col='_path_')"
   ]
  },
  {
   "cell_type": "code",
   "execution_count": 34,
   "metadata": {},
   "outputs": [
    {
     "data": {
      "image/png": "[encoded data removed]",
      "text/plain": [
       "<matplotlib.figure.Figure at 0x7f7263094438>"
      ]
     },
     "metadata": {},
     "output_type": "display_data"
    }
   ],
   "source": [
    "tr_img.show()"
   ]
  },
  {
   "cell_type": "code",
   "execution_count": 66,
   "metadata": {},
   "outputs": [
    {
     "name": "stdout",
     "output_type": "stream",
     "text": [
      "NOTE: Table TRAIN contains compressed images.\n",
      "NOTE: 39209 out of 39209 images were processed successfully and saved as compressed images to the Cloud Analytic Services table trainWithSameSize_small.\n"
     ]
    },
    {
     "data": {
      "text/html": [
       "<div class=\"cas-output-area\"></div>\n",
       "<p class=\"cas-results-performance\"><small><span class=\"cas-elapsed\">elapsed 0.819s</span> &#183; <span class=\"cas-user\">user 3.86s</span> &#183; <span class=\"cas-sys\">sys 0.344s</span> &#183; <span class=\"cas-memory\">mem 44.3MB</span></small></p>"
      ],
      "text/plain": [
       "+ Elapsed: 0.819s, user: 3.86s, sys: 0.344s, mem: 44.3mb"
      ]
     },
     "execution_count": 66,
     "metadata": {},
     "output_type": "execute_result"
    }
   ],
   "source": [
    "# Image preprocessing\n",
    "# Resizing all images to 32 by 32 \n",
    "s.image.processImages(imageTable=\"train\",\n",
    "                casout={'name':'trainWithSameSize_small'},\n",
    "                imageFunctions =\n",
    "                [\n",
    "                     {\n",
    "                        \"functionOptions\":\n",
    "                         {\n",
    "                            \"functionType\":\"Resize\",\n",
    "                             'width':32,\n",
    "                             'height':32\n",
    "                              \n",
    "                        }\n",
    "                     }\n",
    "                ]\n",
    "            )   \n"
   ]
  },
  {
   "cell_type": "code",
   "execution_count": 67,
   "metadata": {},
   "outputs": [
    {
     "data": {
      "image/png": "[encoded data removed]",
      "text/plain": [
       "<matplotlib.figure.Figure at 0x7f7262467c50>"
      ]
     },
     "metadata": {},
     "output_type": "display_data"
    }
   ],
   "source": [
    "trainTb_small = s.CASTable('trainWithSameSize_small')\n",
    "tr_img_small = ImageTable.from_table(trainTb_small,image_col='_image_', label_col='_label_',path_col='_path_')\n",
    "tr_img_small.show()"
   ]
  },
  {
   "cell_type": "code",
   "execution_count": 69,
   "metadata": {},
   "outputs": [
    {
     "name": "stdout",
     "output_type": "stream",
     "text": [
      "NOTE: Table TRAINWITHSAMESIZE_SMALL contains compressed images.\n",
      "NOTE: 39209 out of 39209 images were processed successfully and saved as decompressed images to the Cloud Analytic Services table trainWithSameSize_scale.\n"
     ]
    },
    {
     "data": {
      "text/html": [
       "<div class=\"cas-output-area\"></div>\n",
       "<p class=\"cas-results-performance\"><small><span class=\"cas-elapsed\">elapsed 0.531s</span> &#183; <span class=\"cas-user\">user 1.09s</span> &#183; <span class=\"cas-sys\">sys 1.07s</span> &#183; <span class=\"cas-memory\">mem 75.3MB</span></small></p>"
      ],
      "text/plain": [
       "+ Elapsed: 0.531s, user: 1.09s, sys: 1.07s, mem: 75.3mb"
      ]
     },
     "execution_count": 69,
     "metadata": {},
     "output_type": "execute_result"
    }
   ],
   "source": [
    "# Rescale the image to [-0.5 to 0.5]\n",
    "s.image.processImages(imageTable=\"trainWithSameSize_small\",\n",
    "                casout={'name':'trainWithSameSize_scale','replace':True, 'blocksize':128},\n",
    "                imageFunctions =\n",
    "                [\n",
    "                     {\n",
    "                        \"functionOptions\":\n",
    "                         {\n",
    "                            \"functionType\":\"Rescale\",\n",
    "                             'type':\"To_64F\",\n",
    "                              'alpha':1./255,\n",
    "                              'beta':-0.5\n",
    "                              \n",
    "                        }\n",
    "                     }\n",
    "                ],\n",
    "               decode=True,\n",
    "            )  "
   ]
  },
  {
   "cell_type": "code",
   "execution_count": 70,
   "metadata": {},
   "outputs": [],
   "source": [
    "trainTb_scale = s.CASTable('trainWithSameSize_scale')\n",
    "tr_img_scale = ImageTable.from_table(trainTb_scale,image_col='_image_', label_col='_label_',path_col='_path_')\n"
   ]
  },
  {
   "cell_type": "code",
   "execution_count": 71,
   "metadata": {},
   "outputs": [
    {
     "data": {
      "text/html": [
       "<div class=\"cas-results-key\"><b>&#167; caslib</b></div>\n",
       "<div class=\"cas-results-body\">\n",
       "<div>CASUSER(sasdemo)</div>\n",
       "</div>\n",
       "<div class=\"cas-results-key\"><hr/><b>&#167; tableName</b></div>\n",
       "<div class=\"cas-results-body\">\n",
       "<div>VALI_SAMPLED</div>\n",
       "</div>\n",
       "<div class=\"cas-results-key\"><hr/><b>&#167; rowsTransferred</b></div>\n",
       "<div class=\"cas-results-body\">\n",
       "<div>0</div>\n",
       "</div>\n",
       "<div class=\"cas-results-key\"><hr/><b>&#167; shuffleWaitTime</b></div>\n",
       "<div class=\"cas-results-body\">\n",
       "<div>0.0</div>\n",
       "</div>\n",
       "<div class=\"cas-results-key\"><hr/><b>&#167; minShuffleWaitTime</b></div>\n",
       "<div class=\"cas-results-body\">\n",
       "<div>1e+300</div>\n",
       "</div>\n",
       "<div class=\"cas-results-key\"><hr/><b>&#167; maxShuffleWaitTime</b></div>\n",
       "<div class=\"cas-results-body\">\n",
       "<div>0.0</div>\n",
       "</div>\n",
       "<div class=\"cas-results-key\"><hr/><b>&#167; averageShuffleWaitTime</b></div>\n",
       "<div class=\"cas-results-body\">\n",
       "<div>0.0</div>\n",
       "</div>\n",
       "<div class=\"cas-results-key\"><hr/><b>&#167; casTable</b></div>\n",
       "<div class=\"cas-results-body\">\n",
       "<div>CASTable('VALI_SAMPLED', caslib='CASUSER(sasdemo)')</div>\n",
       "</div>\n",
       "<div class=\"cas-output-area\"></div>\n",
       "<p class=\"cas-results-performance\"><small><span class=\"cas-elapsed\">elapsed 0.552s</span> &#183; <span class=\"cas-user\">user 0.254s</span> &#183; <span class=\"cas-sys\">sys 0.312s</span> &#183; <span class=\"cas-memory\">mem 35.9MB</span></small></p>"
      ],
      "text/plain": [
       "[caslib]\n",
       "\n",
       " 'CASUSER(sasdemo)'\n",
       "\n",
       "[tableName]\n",
       "\n",
       " 'VALI_SAMPLED'\n",
       "\n",
       "[rowsTransferred]\n",
       "\n",
       " 0\n",
       "\n",
       "[shuffleWaitTime]\n",
       "\n",
       " 0.0\n",
       "\n",
       "[minShuffleWaitTime]\n",
       "\n",
       " 1e+300\n",
       "\n",
       "[maxShuffleWaitTime]\n",
       "\n",
       " 0.0\n",
       "\n",
       "[averageShuffleWaitTime]\n",
       "\n",
       " 0.0\n",
       "\n",
       "[casTable]\n",
       "\n",
       " CASTable('VALI_SAMPLED', caslib='CASUSER(sasdemo)')\n",
       "\n",
       "+ Elapsed: 0.552s, user: 0.254s, sys: 0.312s, mem: 35.9mb"
      ]
     },
     "execution_count": 71,
     "metadata": {},
     "output_type": "execute_result"
    }
   ],
   "source": [
    "# Training and validation\n",
    "shuffleidSASCode = \"call streaminit(-1);shuffle_id=rand(\\\"UNIFORM\\\");\"\n",
    "trainTbl0 = s.CASTable('trainWithSameSize_scale', computedvars=['shuffle_id'], computedvarsprogram=shuffleidSASCode, \n",
    "                       where='shuffle_id>0.3',\n",
    "                       groupby='shuffle_id'\n",
    "                      )\n",
    "s.partition(table=trainTbl0, casout=dict(name='train_sampled', replace=True))\n",
    "\n",
    "valiTbl0 = s.CASTable('trainWithSameSize_scale', computedvars=['shuffle_id'], computedvarsprogram=shuffleidSASCode, \n",
    "                       where='shuffle_id<0.3',\n",
    "                       groupby='shuffle_id'\n",
    "                      )\n",
    "s.partition(table=valiTbl0, casout=dict(name='vali_sampled', replace=True))"
   ]
  },
  {
   "cell_type": "code",
   "execution_count": 43,
   "metadata": {},
   "outputs": [
    {
     "name": "stdout",
     "output_type": "stream",
     "text": [
      "NOTE: Information for action set 'deepLearn':\n",
      "NOTE:    deepLearn\n",
      "NOTE:       buildModel - Creates an empty deep learning model\n",
      "NOTE:       addLayer - Adds a layer to a deep learning model\n",
      "NOTE:       removeLayer - Removes a layer from a deep learning model\n",
      "NOTE:       modelInfo - Shows model information\n",
      "NOTE:       dlTune - Tunes hyperparameters for deep learning model\n",
      "NOTE:       dlTrain - Trains a deep learning model\n",
      "NOTE:       dlScore - Scores a table using a deep learning model\n",
      "NOTE:       dlExportModel - Export a deep learning model\n",
      "NOTE:       dlLabelTarget - Assign the target label information\n",
      "NOTE:       dlImportModelWeights - Import model weights from an external source\n"
     ]
    },
    {
     "data": {
      "text/html": [
       "<div class=\"cas-results-key\"><b>&#167; deepLearn</b></div>\n",
       "<div class=\"cas-results-body\">\n",
       "<div>\n",
       "<style>\n",
       "    .dataframe thead tr:only-child th {\n",
       "        text-align: right;\n",
       "    }\n",
       "\n",
       "    .dataframe thead th {\n",
       "        text-align: left;\n",
       "    }\n",
       "\n",
       "    .dataframe tbody tr th {\n",
       "        vertical-align: top;\n",
       "    }\n",
       "</style>\n",
       "<table border=\"1\" class=\"dataframe\">\n",
       "  <thead>\n",
       "    <tr style=\"text-align: right;\">\n",
       "      <th title=\"\"></th>\n",
       "      <th title=\"Name\">name</th>\n",
       "      <th title=\"Description\">description</th>\n",
       "    </tr>\n",
       "  </thead>\n",
       "  <tbody>\n",
       "    <tr>\n",
       "      <th>0</th>\n",
       "      <td>buildModel</td>\n",
       "      <td>Creates an empty deep learning model</td>\n",
       "    </tr>\n",
       "    <tr>\n",
       "      <th>1</th>\n",
       "      <td>addLayer</td>\n",
       "      <td>Adds a layer to a deep learning model</td>\n",
       "    </tr>\n",
       "    <tr>\n",
       "      <th>2</th>\n",
       "      <td>removeLayer</td>\n",
       "      <td>Removes a layer from a deep learning model</td>\n",
       "    </tr>\n",
       "    <tr>\n",
       "      <th>3</th>\n",
       "      <td>modelInfo</td>\n",
       "      <td>Shows model information</td>\n",
       "    </tr>\n",
       "    <tr>\n",
       "      <th>4</th>\n",
       "      <td>dlTune</td>\n",
       "      <td>Tunes hyperparameters for deep learning model</td>\n",
       "    </tr>\n",
       "    <tr>\n",
       "      <th>5</th>\n",
       "      <td>dlTrain</td>\n",
       "      <td>Trains a deep learning model</td>\n",
       "    </tr>\n",
       "    <tr>\n",
       "      <th>6</th>\n",
       "      <td>dlScore</td>\n",
       "      <td>Scores a table using a deep learning model</td>\n",
       "    </tr>\n",
       "    <tr>\n",
       "      <th>7</th>\n",
       "      <td>dlExportModel</td>\n",
       "      <td>Export a deep learning model</td>\n",
       "    </tr>\n",
       "    <tr>\n",
       "      <th>8</th>\n",
       "      <td>dlLabelTarget</td>\n",
       "      <td>Assign the target label information</td>\n",
       "    </tr>\n",
       "    <tr>\n",
       "      <th>9</th>\n",
       "      <td>dlImportModelWeights</td>\n",
       "      <td>Import model weights from an external source</td>\n",
       "    </tr>\n",
       "  </tbody>\n",
       "</table>\n",
       "</div>\n",
       "</div>\n",
       "<div class=\"cas-output-area\"></div>\n",
       "<p class=\"cas-results-performance\"><small><span class=\"cas-elapsed\">elapsed 0.00111s</span> &#183; <span class=\"cas-user\">user 0.001s</span> &#183; <span class=\"cas-memory\">mem 0.605MB</span></small></p>"
      ],
      "text/plain": [
       "[deepLearn]\n",
       "\n",
       "                    name                                    description\n",
       " 0            buildModel           Creates an empty deep learning model\n",
       " 1              addLayer          Adds a layer to a deep learning model\n",
       " 2           removeLayer     Removes a layer from a deep learning model\n",
       " 3             modelInfo                        Shows model information\n",
       " 4                dlTune  Tunes hyperparameters for deep learning model\n",
       " 5               dlTrain                   Trains a deep learning model\n",
       " 6               dlScore     Scores a table using a deep learning model\n",
       " 7         dlExportModel                   Export a deep learning model\n",
       " 8         dlLabelTarget            Assign the target label information\n",
       " 9  dlImportModelWeights   Import model weights from an external source\n",
       "\n",
       "+ Elapsed: 0.00111s, user: 0.001s, mem: 0.605mb"
      ]
     },
     "execution_count": 43,
     "metadata": {},
     "output_type": "execute_result"
    }
   ],
   "source": [
    "s.help(actionset='deepLearn')"
   ]
  },
  {
   "cell_type": "code",
   "execution_count": 72,
   "metadata": {},
   "outputs": [
    {
     "data": {
      "text/html": [
       "<div class=\"cas-results-key\"><b>&#167; OutputCasTables</b></div>\n",
       "<div class=\"cas-results-body\">\n",
       "<div>\n",
       "<style>\n",
       "    .dataframe thead tr:only-child th {\n",
       "        text-align: right;\n",
       "    }\n",
       "\n",
       "    .dataframe thead th {\n",
       "        text-align: left;\n",
       "    }\n",
       "\n",
       "    .dataframe tbody tr th {\n",
       "        vertical-align: top;\n",
       "    }\n",
       "</style>\n",
       "<table border=\"1\" class=\"dataframe\">\n",
       "  <thead>\n",
       "    <tr style=\"text-align: right;\">\n",
       "      <th title=\"\"></th>\n",
       "      <th title=\"CAS Library\">casLib</th>\n",
       "      <th title=\"Name\">Name</th>\n",
       "      <th title=\"Number of Rows\">Rows</th>\n",
       "      <th title=\"Number of Columns\">Columns</th>\n",
       "      <th title=\"Table\">casTable</th>\n",
       "    </tr>\n",
       "  </thead>\n",
       "  <tbody>\n",
       "    <tr>\n",
       "      <th>0</th>\n",
       "      <td>CASUSER(sasdemo)</td>\n",
       "      <td>tnet</td>\n",
       "      <td>108</td>\n",
       "      <td>5</td>\n",
       "      <td>CASTable('tnet', caslib='CASUSER(sasdemo)')</td>\n",
       "    </tr>\n",
       "  </tbody>\n",
       "</table>\n",
       "</div>\n",
       "</div>\n",
       "<div class=\"cas-output-area\"></div>\n",
       "<p class=\"cas-results-performance\"><small><span class=\"cas-elapsed\">elapsed 0.00604s</span> &#183; <span class=\"cas-user\">user 0.005s</span> &#183; <span class=\"cas-sys\">sys 0.004s</span> &#183; <span class=\"cas-memory\">mem 1.34MB</span></small></p>"
      ],
      "text/plain": [
       "[OutputCasTables]\n",
       "\n",
       "              casLib  Name  Rows  Columns  \\\n",
       " 0  CASUSER(sasdemo)  tnet   108        5   \n",
       " \n",
       "                                       casTable  \n",
       " 0  CASTable('tnet', caslib='CASUSER(sasdemo)')  \n",
       "\n",
       "+ Elapsed: 0.00604s, user: 0.005s, sys: 0.004s, mem: 1.34mb"
      ]
     },
     "execution_count": 72,
     "metadata": {},
     "output_type": "execute_result"
    }
   ],
   "source": [
    "# Create the model DAG\n",
    "s.buildModel(model={'name' : 'tNet', 'replace': True}, type='CNN')\n",
    "\n",
    "# Input layer\n",
    "s.addLayer(model = 'tNet', name = 'images', \n",
    "             layer = dict(type = 'input',nchannels=3, width=32,height=32))\n",
    "# First Convolutional Layer\n",
    "s.addLayer(model = 'tNet', name = 'conv1',\n",
    "           layer=dict(type = 'convolution',nFilters=32, width=3, height=3, stride=1,\n",
    "                      init='NORMAL', std=0.1, truncationfactor=2, act='RELU'),\n",
    "             srcLayers = ['images'])\n",
    "# First pooling layer\n",
    "s.addLayer(model = 'tNet', name = 'pool1',\n",
    "           layer=dict(type = 'pooling',width=2, height=2, stride=2, pool='max'),\n",
    "           srcLayers  = ['conv1'])\n",
    "# Second Convolutional Layer\n",
    "s.addLayer(model = 'tNet', name = 'conv2', \n",
    "           layer = dict(type = 'convolution',nFilters=64, width=3, height=3, stride=1,\n",
    "                        init = 'NORMAL', std= 0.1, truncationfactor=2, act='RELU'),\n",
    "           srcLayers = ['pool1'])\n",
    "# Second pooling layer\n",
    "s.addLayer(model = 'tNet', name = 'pool2', \n",
    "           layer = dict(type = 'pooling',width=2, height=2, stride=2, pool='max'),\n",
    "           srcLayers  = ['conv2'])\n",
    "# Third Convolutional Layer\n",
    "s.addLayer(model = 'tNet', name = 'conv3', \n",
    "           layer = dict(type = 'convolution',nFilters=128, width=3, height=3, stride=1, \n",
    "                        init='NORMAL', std= 0.1, truncationfactor= 2, act= 'RELU'),\n",
    "           srcLayers = ['pool2'])\n",
    "# Third pooling layer\n",
    "s.addLayer(model = 'tNet', name = 'pool3', \n",
    "           layer = dict(type = 'pooling',width=2, height=2, stride=2, pool='max'),\n",
    "           srcLayers  = ['conv3'])\n",
    "# Fully connected layer\n",
    "s.addLayer(model = 'tNet', name = 'fc1', \n",
    "           layer = dict(type = 'fullconnect',n=512, act='relu', init='NORMAL', std=0.1, truncationfactor=2),\n",
    "           srcLayers = ['pool3'])\n",
    "# Softmax output layer\n",
    "s.addLayer(model = 'tNet', name = 'outlayer', \n",
    "           layer = dict(type = 'output',act='softmax'),\n",
    "           srcLayers = ['fc1'])\n"
   ]
  },
  {
   "cell_type": "code",
   "execution_count": 47,
   "metadata": {},
   "outputs": [
    {
     "data": {
      "text/html": [
       "<div class=\"cas-results-key\"><b>&#167; TableInfo</b></div>\n",
       "<div class=\"cas-results-body\">\n",
       "<div>\n",
       "<style>\n",
       "    .dataframe thead tr:only-child th {\n",
       "        text-align: right;\n",
       "    }\n",
       "\n",
       "    .dataframe thead th {\n",
       "        text-align: left;\n",
       "    }\n",
       "\n",
       "    .dataframe tbody tr th {\n",
       "        vertical-align: top;\n",
       "    }\n",
       "</style>\n",
       "<table border=\"1\" class=\"dataframe\">\n",
       "  <thead>\n",
       "    <tr style=\"text-align: right;\">\n",
       "      <th title=\"\"></th>\n",
       "      <th title=\"Name\">Name</th>\n",
       "      <th title=\"Rows\">Rows</th>\n",
       "      <th title=\"Columns\">Columns</th>\n",
       "      <th title=\"Indexed Columns\">IndexedColumns</th>\n",
       "      <th title=\"Encoding\">Encoding</th>\n",
       "      <th title=\"Created\">CreateTimeFormatted</th>\n",
       "      <th title=\"Last Modified\">ModTimeFormatted</th>\n",
       "      <th title=\"Last Accessed\">AccessTimeFormatted</th>\n",
       "      <th title=\"Character Set\">JavaCharSet</th>\n",
       "      <th title=\"CreateTime\">CreateTime</th>\n",
       "      <th title=\"ModTime\">ModTime</th>\n",
       "      <th title=\"AccessTime\">AccessTime</th>\n",
       "      <th title=\"Global\">Global</th>\n",
       "      <th title=\"Repeated\">Repeated</th>\n",
       "      <th title=\"View\">View</th>\n",
       "      <th title=\"Loaded Source\">SourceName</th>\n",
       "      <th title=\"Source Caslib\">SourceCaslib</th>\n",
       "      <th title=\"Compressed\">Compressed</th>\n",
       "      <th title=\"Table Creator\">Creator</th>\n",
       "      <th title=\"Last Table Modifier\">Modifier</th>\n",
       "    </tr>\n",
       "  </thead>\n",
       "  <tbody>\n",
       "    <tr>\n",
       "      <th>0</th>\n",
       "      <td>TRAIN</td>\n",
       "      <td>39209</td>\n",
       "      <td>6</td>\n",
       "      <td>0</td>\n",
       "      <td>utf-8</td>\n",
       "      <td>18Oct2017:14:47:22</td>\n",
       "      <td>18Oct2017:14:47:22</td>\n",
       "      <td>18Oct2017:14:48:53</td>\n",
       "      <td>UTF8</td>\n",
       "      <td>1.823957e+09</td>\n",
       "      <td>1.823957e+09</td>\n",
       "      <td>1.823957e+09</td>\n",
       "      <td>0</td>\n",
       "      <td>0</td>\n",
       "      <td>0</td>\n",
       "      <td></td>\n",
       "      <td></td>\n",
       "      <td>0</td>\n",
       "      <td>sasdemo</td>\n",
       "      <td></td>\n",
       "    </tr>\n",
       "    <tr>\n",
       "      <th>1</th>\n",
       "      <td>IMAGEDATA_RPXBLU</td>\n",
       "      <td>39209</td>\n",
       "      <td>3</td>\n",
       "      <td>0</td>\n",
       "      <td>utf-8</td>\n",
       "      <td>18Oct2017:14:47:46</td>\n",
       "      <td>18Oct2017:14:47:46</td>\n",
       "      <td>18Oct2017:14:48:41</td>\n",
       "      <td>UTF8</td>\n",
       "      <td>1.823957e+09</td>\n",
       "      <td>1.823957e+09</td>\n",
       "      <td>1.823957e+09</td>\n",
       "      <td>0</td>\n",
       "      <td>0</td>\n",
       "      <td>0</td>\n",
       "      <td></td>\n",
       "      <td></td>\n",
       "      <td>0</td>\n",
       "      <td>sasdemo</td>\n",
       "      <td></td>\n",
       "    </tr>\n",
       "    <tr>\n",
       "      <th>2</th>\n",
       "      <td>TRAINWITHSAMESIZE_SMALL</td>\n",
       "      <td>39209</td>\n",
       "      <td>6</td>\n",
       "      <td>0</td>\n",
       "      <td>utf-8</td>\n",
       "      <td>18Oct2017:14:48:53</td>\n",
       "      <td>18Oct2017:14:48:53</td>\n",
       "      <td>18Oct2017:14:53:27</td>\n",
       "      <td>UTF8</td>\n",
       "      <td>1.823957e+09</td>\n",
       "      <td>1.823957e+09</td>\n",
       "      <td>1.823958e+09</td>\n",
       "      <td>0</td>\n",
       "      <td>0</td>\n",
       "      <td>0</td>\n",
       "      <td></td>\n",
       "      <td></td>\n",
       "      <td>0</td>\n",
       "      <td>sasdemo</td>\n",
       "      <td></td>\n",
       "    </tr>\n",
       "    <tr>\n",
       "      <th>3</th>\n",
       "      <td>IMAGEDATA_ZYUMKP</td>\n",
       "      <td>39209</td>\n",
       "      <td>3</td>\n",
       "      <td>0</td>\n",
       "      <td>utf-8</td>\n",
       "      <td>18Oct2017:14:49:21</td>\n",
       "      <td>18Oct2017:14:49:21</td>\n",
       "      <td>18Oct2017:14:49:21</td>\n",
       "      <td>UTF8</td>\n",
       "      <td>1.823957e+09</td>\n",
       "      <td>1.823957e+09</td>\n",
       "      <td>1.823957e+09</td>\n",
       "      <td>0</td>\n",
       "      <td>0</td>\n",
       "      <td>0</td>\n",
       "      <td></td>\n",
       "      <td></td>\n",
       "      <td>0</td>\n",
       "      <td>sasdemo</td>\n",
       "      <td></td>\n",
       "    </tr>\n",
       "    <tr>\n",
       "      <th>4</th>\n",
       "      <td>IMAGEDATA_WSBGID</td>\n",
       "      <td>39209</td>\n",
       "      <td>3</td>\n",
       "      <td>0</td>\n",
       "      <td>utf-8</td>\n",
       "      <td>18Oct2017:14:53:13</td>\n",
       "      <td>18Oct2017:14:53:13</td>\n",
       "      <td>18Oct2017:14:53:14</td>\n",
       "      <td>UTF8</td>\n",
       "      <td>1.823958e+09</td>\n",
       "      <td>1.823958e+09</td>\n",
       "      <td>1.823958e+09</td>\n",
       "      <td>0</td>\n",
       "      <td>0</td>\n",
       "      <td>0</td>\n",
       "      <td></td>\n",
       "      <td></td>\n",
       "      <td>0</td>\n",
       "      <td>sasdemo</td>\n",
       "      <td></td>\n",
       "    </tr>\n",
       "    <tr>\n",
       "      <th>5</th>\n",
       "      <td>TRAINWITHSAMESIZE_SCALE</td>\n",
       "      <td>39209</td>\n",
       "      <td>9</td>\n",
       "      <td>0</td>\n",
       "      <td>utf-8</td>\n",
       "      <td>18Oct2017:14:53:27</td>\n",
       "      <td>18Oct2017:14:53:27</td>\n",
       "      <td>18Oct2017:14:53:45</td>\n",
       "      <td>UTF8</td>\n",
       "      <td>1.823958e+09</td>\n",
       "      <td>1.823958e+09</td>\n",
       "      <td>1.823958e+09</td>\n",
       "      <td>0</td>\n",
       "      <td>0</td>\n",
       "      <td>0</td>\n",
       "      <td></td>\n",
       "      <td></td>\n",
       "      <td>0</td>\n",
       "      <td>sasdemo</td>\n",
       "      <td></td>\n",
       "    </tr>\n",
       "    <tr>\n",
       "      <th>6</th>\n",
       "      <td>IMAGEDATA_FTEORL</td>\n",
       "      <td>39209</td>\n",
       "      <td>3</td>\n",
       "      <td>0</td>\n",
       "      <td>utf-8</td>\n",
       "      <td>18Oct2017:14:53:49</td>\n",
       "      <td>18Oct2017:14:53:49</td>\n",
       "      <td>18Oct2017:14:53:51</td>\n",
       "      <td>UTF8</td>\n",
       "      <td>1.823958e+09</td>\n",
       "      <td>1.823958e+09</td>\n",
       "      <td>1.823958e+09</td>\n",
       "      <td>0</td>\n",
       "      <td>0</td>\n",
       "      <td>0</td>\n",
       "      <td></td>\n",
       "      <td></td>\n",
       "      <td>0</td>\n",
       "      <td>sasdemo</td>\n",
       "      <td></td>\n",
       "    </tr>\n",
       "    <tr>\n",
       "      <th>7</th>\n",
       "      <td>TNET</td>\n",
       "      <td>108</td>\n",
       "      <td>5</td>\n",
       "      <td>0</td>\n",
       "      <td>utf-8</td>\n",
       "      <td>18Oct2017:14:55:27</td>\n",
       "      <td>18Oct2017:14:55:27</td>\n",
       "      <td>18Oct2017:14:55:27</td>\n",
       "      <td>UTF8</td>\n",
       "      <td>1.823958e+09</td>\n",
       "      <td>1.823958e+09</td>\n",
       "      <td>1.823958e+09</td>\n",
       "      <td>0</td>\n",
       "      <td>0</td>\n",
       "      <td>0</td>\n",
       "      <td></td>\n",
       "      <td></td>\n",
       "      <td>0</td>\n",
       "      <td>sasdemo</td>\n",
       "      <td></td>\n",
       "    </tr>\n",
       "  </tbody>\n",
       "</table>\n",
       "</div>\n",
       "</div>\n",
       "<div class=\"cas-output-area\"></div>\n",
       "<p class=\"cas-results-performance\"><small><span class=\"cas-elapsed\">elapsed 0.00174s</span> &#183; <span class=\"cas-sys\">sys 0.001s</span> &#183; <span class=\"cas-memory\">mem 0.687MB</span></small></p>"
      ],
      "text/plain": [
       "[TableInfo]\n",
       "\n",
       "                       Name   Rows  Columns  IndexedColumns Encoding  \\\n",
       " 0                    TRAIN  39209        6               0    utf-8   \n",
       " 1         IMAGEDATA_RPXBLU  39209        3               0    utf-8   \n",
       " 2  TRAINWITHSAMESIZE_SMALL  39209        6               0    utf-8   \n",
       " 3         IMAGEDATA_ZYUMKP  39209        3               0    utf-8   \n",
       " 4         IMAGEDATA_WSBGID  39209        3               0    utf-8   \n",
       " 5  TRAINWITHSAMESIZE_SCALE  39209        9               0    utf-8   \n",
       " 6         IMAGEDATA_FTEORL  39209        3               0    utf-8   \n",
       " 7                     TNET    108        5               0    utf-8   \n",
       " \n",
       "   CreateTimeFormatted    ModTimeFormatted AccessTimeFormatted JavaCharSet  \\\n",
       " 0  18Oct2017:14:47:22  18Oct2017:14:47:22  18Oct2017:14:48:53        UTF8   \n",
       " 1  18Oct2017:14:47:46  18Oct2017:14:47:46  18Oct2017:14:48:41        UTF8   \n",
       " 2  18Oct2017:14:48:53  18Oct2017:14:48:53  18Oct2017:14:53:27        UTF8   \n",
       " 3  18Oct2017:14:49:21  18Oct2017:14:49:21  18Oct2017:14:49:21        UTF8   \n",
       " 4  18Oct2017:14:53:13  18Oct2017:14:53:13  18Oct2017:14:53:14        UTF8   \n",
       " 5  18Oct2017:14:53:27  18Oct2017:14:53:27  18Oct2017:14:53:45        UTF8   \n",
       " 6  18Oct2017:14:53:49  18Oct2017:14:53:49  18Oct2017:14:53:51        UTF8   \n",
       " 7  18Oct2017:14:55:27  18Oct2017:14:55:27  18Oct2017:14:55:27        UTF8   \n",
       " \n",
       "      CreateTime       ModTime    AccessTime  Global  Repeated  View  \\\n",
       " 0  1.823957e+09  1.823957e+09  1.823957e+09       0         0     0   \n",
       " 1  1.823957e+09  1.823957e+09  1.823957e+09       0         0     0   \n",
       " 2  1.823957e+09  1.823957e+09  1.823958e+09       0         0     0   \n",
       " 3  1.823957e+09  1.823957e+09  1.823957e+09       0         0     0   \n",
       " 4  1.823958e+09  1.823958e+09  1.823958e+09       0         0     0   \n",
       " 5  1.823958e+09  1.823958e+09  1.823958e+09       0         0     0   \n",
       " 6  1.823958e+09  1.823958e+09  1.823958e+09       0         0     0   \n",
       " 7  1.823958e+09  1.823958e+09  1.823958e+09       0         0     0   \n",
       " \n",
       "   SourceName SourceCaslib  Compressed  Creator Modifier  \n",
       " 0                                   0  sasdemo           \n",
       " 1                                   0  sasdemo           \n",
       " 2                                   0  sasdemo           \n",
       " 3                                   0  sasdemo           \n",
       " 4                                   0  sasdemo           \n",
       " 5                                   0  sasdemo           \n",
       " 6                                   0  sasdemo           \n",
       " 7                                   0  sasdemo           \n",
       "\n",
       "+ Elapsed: 0.00174s, sys: 0.001s, mem: 0.687mb"
      ]
     },
     "execution_count": 47,
     "metadata": {},
     "output_type": "execute_result"
    }
   ],
   "source": [
    "s.tableinfo()"
   ]
  },
  {
   "cell_type": "code",
   "execution_count": 73,
   "metadata": {},
   "outputs": [
    {
     "name": "stdout",
     "output_type": "stream",
     "text": [
      "WARNING:  The learningOpts parameter is obsolete. Please use the optimizer options.\n"
     ]
    }
   ],
   "source": [
    "# Train the model (SMP)\n",
    "r =s.dltrain(model = 'tNet',\n",
    "               table = {'name' : 'train_sampled'},\n",
    "               seed = 99,\n",
    "               nthreads = 8,\n",
    "               input =['_image_','_label_'],\n",
    "               target = '_label_',\n",
    "               nominal = ['_label_'],\n",
    "               modelweights = {'name' : 'tNet_Weights', 'replace' : True},\n",
    "               learningOpts = {'miniBatchSize' : 1, 'maxEpochs' : 14, 'learningRate': 0.001, 'aSyncFreq' : 1, 'algorithm' : 'ADAM'})\n"
   ]
  },
  {
   "cell_type": "code",
   "execution_count": 52,
   "metadata": {},
   "outputs": [
    {
     "data": {
      "image/png": "[encoded data removed]",
      "text/plain": [
       "<matplotlib.figure.Figure at 0x7f72629db208>"
      ]
     },
     "metadata": {},
     "output_type": "display_data"
    }
   ],
   "source": [
    "r.OptIterHistory[['Loss', 'FitError']].plot(figsize = (12, 5));"
   ]
  },
  {
   "cell_type": "code",
   "execution_count": 15,
   "metadata": {},
   "outputs": [
    {
     "data": {
      "text/html": [
       "<div class=\"cas-results-key\"><b>&#167; ScoreInfo</b></div>\n",
       "<div class=\"cas-results-body\">\n",
       "<div>\n",
       "<table border=\"1\" class=\"dataframe\">\n",
       "  <thead>\n",
       "    <tr style=\"text-align: right;\">\n",
       "      <th title=\"\"></th>\n",
       "      <th title=\"Descr\">Descr</th>\n",
       "      <th title=\"Value\">Value</th>\n",
       "    </tr>\n",
       "  </thead>\n",
       "  <tbody>\n",
       "    <tr>\n",
       "      <th>0</th>\n",
       "      <td>Number of Observations Read</td>\n",
       "      <td>11760</td>\n",
       "    </tr>\n",
       "    <tr>\n",
       "      <th>1</th>\n",
       "      <td>Number of Observations Used</td>\n",
       "      <td>11760</td>\n",
       "    </tr>\n",
       "    <tr>\n",
       "      <th>2</th>\n",
       "      <td>Misclassification Error (%)</td>\n",
       "      <td>0.918367</td>\n",
       "    </tr>\n",
       "    <tr>\n",
       "      <th>3</th>\n",
       "      <td>Loss Error</td>\n",
       "      <td>0.075073</td>\n",
       "    </tr>\n",
       "  </tbody>\n",
       "</table>\n",
       "</div>\n",
       "</div>\n",
       "<div class=\"cas-results-key\"><hr/><b>&#167; OutputCasTables</b></div>\n",
       "<div class=\"cas-results-body\">\n",
       "<div>\n",
       "<table border=\"1\" class=\"dataframe\">\n",
       "  <thead>\n",
       "    <tr style=\"text-align: right;\">\n",
       "      <th title=\"\"></th>\n",
       "      <th title=\"CAS Library\">casLib</th>\n",
       "      <th title=\"Name\">Name</th>\n",
       "      <th title=\"Number of Rows\">Rows</th>\n",
       "      <th title=\"Number of Columns\">Columns</th>\n",
       "      <th title=\"Table\">casTable</th>\n",
       "    </tr>\n",
       "  </thead>\n",
       "  <tbody>\n",
       "    <tr>\n",
       "      <th>0</th>\n",
       "      <td>CASUSER(sasdemo)</td>\n",
       "      <td>tNet_LayerOut</td>\n",
       "      <td>11760</td>\n",
       "      <td>454</td>\n",
       "      <td>CASTable('tNet_LayerOut', caslib='CASUSER(sasd...</td>\n",
       "    </tr>\n",
       "    <tr>\n",
       "      <th>1</th>\n",
       "      <td>CASUSER(sasdemo)</td>\n",
       "      <td>tNet_Scored</td>\n",
       "      <td>11760</td>\n",
       "      <td>47</td>\n",
       "      <td>CASTable('tNet_Scored', caslib='CASUSER(sasdem...</td>\n",
       "    </tr>\n",
       "  </tbody>\n",
       "</table>\n",
       "</div>\n",
       "</div>\n",
       "<div class=\"cas-output-area\"></div>\n",
       "<p class=\"cas-results-performance\"><small><span class=\"cas-elapsed\">elapsed 201s</span> &#183; <span class=\"cas-user\">user 442s</span> &#183; <span class=\"cas-sys\">sys 135s</span> &#183; <span class=\"cas-memory\">mem 105MB</span></small></p>"
      ],
      "text/plain": [
       "[ScoreInfo]\n",
       "\n",
       "                          Descr         Value\n",
       " 0  Number of Observations Read         11760\n",
       " 1  Number of Observations Used         11760\n",
       " 2  Misclassification Error (%)      0.918367\n",
       " 3                   Loss Error      0.075073\n",
       "\n",
       "[OutputCasTables]\n",
       "\n",
       "              casLib           Name   Rows  Columns  \\\n",
       " 0  CASUSER(sasdemo)  tNet_LayerOut  11760      454   \n",
       " 1  CASUSER(sasdemo)    tNet_Scored  11760       47   \n",
       " \n",
       "                                             casTable  \n",
       " 0  CASTable('tNet_LayerOut', caslib='CASUSER(sasd...  \n",
       " 1  CASTable('tNet_Scored', caslib='CASUSER(sasdem...  \n",
       "\n",
       "+ Elapsed: 201s, user: 442s, sys: 135s, mem: 105mb"
      ]
     },
     "execution_count": 15,
     "metadata": {},
     "output_type": "execute_result"
    }
   ],
   "source": [
    "# Score against validation data\n",
    "s.dlscore(model = 'tNet',\n",
    "            initWeights = 'tNet_Weights',\n",
    "            table = {'name' : 'vali_sampled'},\n",
    "            copyVars = ['_label_'],\n",
    "            layerOut = {'name' : 'tNet_LayerOut', 'replace' : True},\n",
    "            casout = {'name' : 'tNet_Scored', 'replace' : True})"
   ]
  },
  {
   "cell_type": "code",
   "execution_count": null,
   "metadata": {},
   "outputs": [],
   "source": [
    "# build a confusion matrix \n",
    "cmr = s.crosstab(table='tNet_scored', row='_label_', col='_dl_predname_')\n",
    "cmr"
   ]
  },
  {
   "cell_type": "code",
   "execution_count": 17,
   "metadata": {
    "scrolled": true
   },
   "outputs": [
    {
     "name": "stderr",
     "output_type": "stream",
     "text": [
      "/opt/sasinside/anaconda3/lib/python3.6/site-packages/ipykernel/__main__.py:18: RuntimeWarning: divide by zero encountered in log\n"
     ]
    },
    {
     "data": {
      "image/png": "[encoded data removed]",
      "text/plain": [
       "<matplotlib.figure.Figure at 0x7fd1c1e99710>"
      ]
     },
     "metadata": {},
     "output_type": "display_data"
    }
   ],
   "source": [
    "target_names = [\"speed limit (20km/h)\",\"speed limit (30km/h)\",\"speed limit (50km/h)\",\"speed limit (60km/h)\",\"speed limit (70km/h)\",\n",
    "                \"speed limit (80km/h)\",\"End of speed limit (80km/h)\",\"speed lime (100km/h)\",\"speed lime (120km/h)\",\"No passing\",\n",
    "                \"No passing for vechiles over 3.5 metric tons\",\"Right-of-way at the next intersection\",\n",
    "                \"Priority road\",\"Yield\",\"Stop\",\"No Vechiles\",\"Vechiles over 3.5 metric tons prohibited\",\"No entry\",\"General caution\",\n",
    "                \"Dangerous curve to the left\",\"Dangerous curve to the right\",\"Double curve\",\"Bumpy road\",\"Slipery road\",\n",
    "                \"Road narrows on the right\",\"Road work\",\"Traffic signals\",\"Pedestrians\",\"Children crossing\",\"Bicycles crossing\",\n",
    "                \"Beware of ice/snow\",\"Wild animals crossing\",\"End of all speed and passing limits\",\"Turn right ahead\",\n",
    "                \"Turn left ahead\",\"Ahead only\",\"Go straight or right\",\"Go straight or left\",\"Keep right\",\"Keep left\",\n",
    "                \"Roundabout mandatory\",\"End of no passing\",\"End of no passing by vechiles over 3.5 metric tons\"]\n",
    "confM = cmr.Crosstab[['Col1','Col2','Col3','Col4','Col5','Col6','Col7','Col8','Col9','Col10',\n",
    "                      'Col11','Col12','Col13','Col14','Col15','Col16','Col17','Col18','Col19','Col20',\n",
    "                      'Col21','Col22','Col23','Col24','Col25','Col26','Col27','Col28','Col29','Col30',\n",
    "                      'Col31','Col32','Col33','Col34','Col35','Col36','Col37','Col38','Col39','Col40',\n",
    "                      'Col41','Col42','Col43'\n",
    "                     ]].head(43).values\n",
    "\n",
    "#confMNorm = confM.astype('float') / confM.sum(axis=1)[:, np.newaxis]\n",
    "confMLogNorm = np.log(confM.astype('float')) \n",
    "#print confMLogNorm\n",
    "def plot_confusion_matrix(cm, title='Confusion Matrix', cmap=plt.cm.Blues):\n",
    "    plt.imshow(cm, interpolation='nearest', cmap=cmap)\n",
    "    plt.title(title)\n",
    "    plt.colorbar()\n",
    "    tick_marks = np.arange(len(target_names))\n",
    "    plt.xticks(tick_marks, target_names,rotation=90)\n",
    "    plt.yticks(tick_marks, target_names)\n",
    "    plt.tight_layout()\n",
    "    plt.ylabel('True label')\n",
    "    plt.xlabel('Predicted label')\n",
    "    #grid off\n",
    "    #labels = ['point {0}'.format(i + 1) for i in range(N)]\n",
    "    #tooltip = mpld3.plugins.PointLabelTooltip(scatter, labels=labels)\n",
    "    #mpld3.plugins.connect(fig, tooltip)\n",
    "    \n",
    "plt.figure(figsize=(16,16))\n",
    "plot_confusion_matrix(confMLogNorm) "
   ]
  },
  {
   "cell_type": "code",
   "execution_count": null,
   "metadata": {
    "collapsed": true
   },
   "outputs": [],
   "source": []
  },
  {
   "cell_type": "code",
   "execution_count": 25,
   "metadata": {
    "collapsed": true
   },
   "outputs": [],
   "source": [
    "s.close()"
   ]
  },
  {
   "cell_type": "code",
   "execution_count": null,
   "metadata": {
    "collapsed": true
   },
   "outputs": [],
   "source": []
  }
 ],
 "metadata": {
  "anaconda-cloud": {},
  "kernelspec": {
   "display_name": "Python 3",
   "language": "python",
   "name": "python3"
  },
  "language_info": {
   "codemirror_mode": {
    "name": "ipython",
    "version": 3
   },
   "file_extension": ".py",
   "mimetype": "text/x-python",
   "name": "python",
   "nbconvert_exporter": "python",
   "pygments_lexer": "ipython3",
   "version": "3.5.4"
  }
 },
 "nbformat": 4,
 "nbformat_minor": 1
}
